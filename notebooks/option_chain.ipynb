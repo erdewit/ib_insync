{
 "cells": [
  {
   "cell_type": "markdown",
   "metadata": {},
   "source": [
    "Option chains\n",
    "======="
   ]
  },
  {
   "cell_type": "code",
   "execution_count": 1,
   "metadata": {
    "scrolled": true
   },
   "outputs": [
    {
     "data": {
      "text/plain": [
       "<IB connected to 127.0.0.1:7497 clientId=12>"
      ]
     },
     "execution_count": 1,
     "metadata": {},
     "output_type": "execute_result"
    }
   ],
   "source": [
    "from ib_insync import *\n",
    "util.startLoop()\n",
    "\n",
    "ib = IB()\n",
    "ib.connect('127.0.0.1', 7497, clientId=12)"
   ]
  },
  {
   "cell_type": "markdown",
   "metadata": {},
   "source": [
    "Suppose we want to find the options on the SPX, with the following conditions:\n",
    "\n",
    "* Use the next three monthly expiries;\n",
    "* Use strike prices within +- 20 dollar of the current SPX value;\n",
    "* Use strike prices that are a multitude of 5 dollar."
   ]
  },
  {
   "cell_type": "markdown",
   "metadata": {},
   "source": [
    "To get the current market value, first create a contract for the underlyer (the S&P 500 index):"
   ]
  },
  {
   "cell_type": "code",
   "execution_count": 2,
   "metadata": {},
   "outputs": [
    {
     "data": {
      "text/plain": [
       "[Index(conId=416904, symbol='SPX', exchange='CBOE', currency='USD', localSymbol='SPX')]"
      ]
     },
     "execution_count": 2,
     "metadata": {},
     "output_type": "execute_result"
    }
   ],
   "source": [
    "spx = Index('SPX', 'CBOE')\n",
    "ib.qualifyContracts(spx)"
   ]
  },
  {
   "cell_type": "markdown",
   "metadata": {},
   "source": [
    "Then get the ticker. Requesting a ticker can take up to 11 seconds."
   ]
  },
  {
   "cell_type": "code",
   "execution_count": 3,
   "metadata": {},
   "outputs": [
    {
     "data": {
      "text/plain": [
       "Ticker(contract=Index(conId=416904, symbol='SPX', exchange='CBOE', currency='USD', localSymbol='SPX'), time=datetime.datetime(2018, 5, 25, 17, 50, 1, 424100, tzinfo=datetime.timezone.utc), bid=2717.16, bidSize=1, ask=2717.92, askSize=1, last=2717.59, lastSize=0, high=2727.36, low=2716.72, close=2727.76, ticks=[TickData(time=datetime.datetime(2018, 5, 25, 17, 50, 1, 424100, tzinfo=datetime.timezone.utc), tickType=1, price=2717.16, size=1), TickData(time=datetime.datetime(2018, 5, 25, 17, 50, 1, 424100, tzinfo=datetime.timezone.utc), tickType=2, price=2717.92, size=1), TickData(time=datetime.datetime(2018, 5, 25, 17, 50, 1, 424100, tzinfo=datetime.timezone.utc), tickType=4, price=2717.59, size=0), TickData(time=datetime.datetime(2018, 5, 25, 17, 50, 1, 424100, tzinfo=datetime.timezone.utc), tickType=6, price=2727.36, size=0), TickData(time=datetime.datetime(2018, 5, 25, 17, 50, 1, 424100, tzinfo=datetime.timezone.utc), tickType=7, price=2716.72, size=0), TickData(time=datetime.datetime(2018, 5, 25, 17, 50, 1, 424100, tzinfo=datetime.timezone.utc), tickType=9, price=2727.76, size=0), TickData(time=datetime.datetime(2018, 5, 25, 17, 50, 1, 424100, tzinfo=datetime.timezone.utc), tickType=49, price=0.0, size=0)], tickByTicks=[], domBids=[], domAsks=[], domTicks=[])"
      ]
     },
     "execution_count": 3,
     "metadata": {},
     "output_type": "execute_result"
    }
   ],
   "source": [
    "[ticker] = ib.reqTickers(spx)\n",
    "ticker"
   ]
  },
  {
   "cell_type": "markdown",
   "metadata": {},
   "source": [
    "Take the current market value of the ticker:"
   ]
  },
  {
   "cell_type": "code",
   "execution_count": 4,
   "metadata": {},
   "outputs": [
    {
     "data": {
      "text/plain": [
       "2717.59"
      ]
     },
     "execution_count": 4,
     "metadata": {},
     "output_type": "execute_result"
    }
   ],
   "source": [
    "spxValue = ticker.marketPrice()\n",
    "spxValue"
   ]
  },
  {
   "cell_type": "markdown",
   "metadata": {},
   "source": [
    "The following request fetches a list of option chains:"
   ]
  },
  {
   "cell_type": "code",
   "execution_count": 5,
   "metadata": {},
   "outputs": [
    {
     "data": {
      "text/html": [
       "<div>\n",
       "<style scoped>\n",
       "    .dataframe tbody tr th:only-of-type {\n",
       "        vertical-align: middle;\n",
       "    }\n",
       "\n",
       "    .dataframe tbody tr th {\n",
       "        vertical-align: top;\n",
       "    }\n",
       "\n",
       "    .dataframe thead th {\n",
       "        text-align: right;\n",
       "    }\n",
       "</style>\n",
       "<table border=\"1\" class=\"dataframe\">\n",
       "  <thead>\n",
       "    <tr style=\"text-align: right;\">\n",
       "      <th></th>\n",
       "      <th>exchange</th>\n",
       "      <th>underlyingConId</th>\n",
       "      <th>tradingClass</th>\n",
       "      <th>multiplier</th>\n",
       "      <th>expirations</th>\n",
       "      <th>strikes</th>\n",
       "    </tr>\n",
       "  </thead>\n",
       "  <tbody>\n",
       "    <tr>\n",
       "      <th>0</th>\n",
       "      <td>SMART</td>\n",
       "      <td>416904</td>\n",
       "      <td>SPX</td>\n",
       "      <td>100</td>\n",
       "      <td>{20180920, 20180719, 20191219, 20190117, 20180...</td>\n",
       "      <td>{2560.0, 1025.0, 2050.0, 3075.0, 4100.0, 2565....</td>\n",
       "    </tr>\n",
       "    <tr>\n",
       "      <th>1</th>\n",
       "      <td>CBOE</td>\n",
       "      <td>416904</td>\n",
       "      <td>SPXW</td>\n",
       "      <td>100</td>\n",
       "      <td>{20180817, 20180606, 20180727, 20180531, 20180...</td>\n",
       "      <td>{2560.0, 1025.0, 2050.0, 3075.0, 2565.0, 2570....</td>\n",
       "    </tr>\n",
       "    <tr>\n",
       "      <th>2</th>\n",
       "      <td>SMART</td>\n",
       "      <td>416904</td>\n",
       "      <td>SPXW</td>\n",
       "      <td>100</td>\n",
       "      <td>{20180817, 20180606, 20180727, 20180531, 20180...</td>\n",
       "      <td>{2560.0, 1025.0, 2050.0, 3075.0, 2565.0, 2570....</td>\n",
       "    </tr>\n",
       "    <tr>\n",
       "      <th>3</th>\n",
       "      <td>CBOE</td>\n",
       "      <td>416904</td>\n",
       "      <td>SPX</td>\n",
       "      <td>100</td>\n",
       "      <td>{20180920, 20180719, 20191219, 20190117, 20180...</td>\n",
       "      <td>{2560.0, 1025.0, 2050.0, 3075.0, 4100.0, 2565....</td>\n",
       "    </tr>\n",
       "  </tbody>\n",
       "</table>\n",
       "</div>"
      ],
      "text/plain": [
       "  exchange  underlyingConId tradingClass multiplier  \\\n",
       "0    SMART           416904          SPX        100   \n",
       "1     CBOE           416904         SPXW        100   \n",
       "2    SMART           416904         SPXW        100   \n",
       "3     CBOE           416904          SPX        100   \n",
       "\n",
       "                                         expirations  \\\n",
       "0  {20180920, 20180719, 20191219, 20190117, 20180...   \n",
       "1  {20180817, 20180606, 20180727, 20180531, 20180...   \n",
       "2  {20180817, 20180606, 20180727, 20180531, 20180...   \n",
       "3  {20180920, 20180719, 20191219, 20190117, 20180...   \n",
       "\n",
       "                                             strikes  \n",
       "0  {2560.0, 1025.0, 2050.0, 3075.0, 4100.0, 2565....  \n",
       "1  {2560.0, 1025.0, 2050.0, 3075.0, 2565.0, 2570....  \n",
       "2  {2560.0, 1025.0, 2050.0, 3075.0, 2565.0, 2570....  \n",
       "3  {2560.0, 1025.0, 2050.0, 3075.0, 4100.0, 2565....  "
      ]
     },
     "execution_count": 5,
     "metadata": {},
     "output_type": "execute_result"
    }
   ],
   "source": [
    "chains = ib.reqSecDefOptParams(spx.symbol, '', spx.secType, spx.conId)\n",
    "\n",
    "util.df(chains)"
   ]
  },
  {
   "cell_type": "markdown",
   "metadata": {},
   "source": [
    "These are four option chains that differ in ``exchange`` and ``tradingClass``. The latter is 'SPX' for the monthly and  'SPXW' for the weekly options. Note that the weekly expiries are disjoint from the monthly ones, so when interested in the weekly options the monthly options can be added as well.\n",
    "\n",
    "In this case we're only interested in the montly options trading on SMART:"
   ]
  },
  {
   "cell_type": "code",
   "execution_count": 6,
   "metadata": {},
   "outputs": [
    {
     "data": {
      "text/plain": [
       "OptionChain(exchange='SMART', underlyingConId=416904, tradingClass='SPX', multiplier='100', expirations={'20180920', '20180719', '20191219', '20190117', '20180816', '20190620', '20180614', '20181220', '20190314', '20201217'}, strikes={2560.0, 1025.0, 2050.0, 3075.0, 4100.0, 2565.0, 2570.0, 2060.0, 1550.0, 2575.0, 3600.0, 2580.0, 2070.0, 2585.0, 1050.0, 2075.0, 3100.0, 2590.0, 2080.0, 2595.0, 2085.0, 550.0, 1575.0, 2600.0, 2090.0, 2605.0, 2095.0, 2610.0, 1075.0, 2100.0, 3125.0, 2615.0, 2105.0, 2620.0, 2110.0, 1600.0, 2625.0, 2115.0, 2630.0, 2120.0, 2635.0, 1100.0, 2125.0, 3150.0, 2640.0, 2130.0, 2645.0, 2135.0, 600.0, 1625.0, 2650.0, 2140.0, 2655.0, 2145.0, 100.0, 1125.0, 2150.0, 2660.0, 3175.0, 2665.0, 2155.0, 2670.0, 2160.0, 1650.0, 2675.0, 3700.0, 2165.0, 2680.0, 2170.0, 2685.0, 1150.0, 2175.0, 3200.0, 2690.0, 2180.0, 2695.0, 2185.0, 650.0, 1675.0, 2700.0, 2190.0, 2705.0, 2195.0, 2710.0, 1175.0, 2200.0, 2715.0, 2205.0, 2720.0, 2210.0, 1700.0, 2725.0, 2215.0, 2730.0, 2220.0, 2735.0, 1200.0, 2225.0, 3250.0, 2740.0, 2230.0, 2745.0, 2235.0, 700.0, 1725.0, 2750.0, 2240.0, 2755.0, 2245.0, 200.0, 1225.0, 2250.0, 2760.0, 2765.0, 2255.0, 2770.0, 2260.0, 1750.0, 2775.0, 3800.0, 2265.0, 2780.0, 2270.0, 2785.0, 1250.0, 2275.0, 3300.0, 2790.0, 2280.0, 2795.0, 2285.0, 750.0, 1775.0, 2800.0, 2290.0, 2805.0, 2295.0, 250.0, 1275.0, 2300.0, 2810.0, 2815.0, 2305.0, 2820.0, 2310.0, 1800.0, 2825.0, 2315.0, 2830.0, 2320.0, 1810.0, 2835.0, 1300.0, 2325.0, 2840.0, 2330.0, 1820.0, 2845.0, 2335.0, 800.0, 1825.0, 2850.0, 2340.0, 1830.0, 2855.0, 2345.0, 300.0, 1325.0, 2350.0, 2860.0, 1840.0, 2865.0, 2355.0, 2870.0, 2360.0, 825.0, 1850.0, 2875.0, 3900.0, 2365.0, 2880.0, 2370.0, 1860.0, 2885.0, 1350.0, 2375.0, 3400.0, 2890.0, 2380.0, 1870.0, 2895.0, 2385.0, 850.0, 1875.0, 2900.0, 2390.0, 1880.0, 2905.0, 2395.0, 2910.0, 1375.0, 2400.0, 1890.0, 2915.0, 2405.0, 2920.0, 2410.0, 875.0, 1900.0, 2925.0, 2415.0, 2930.0, 2420.0, 1910.0, 2935.0, 1400.0, 2425.0, 2940.0, 2430.0, 1920.0, 2945.0, 2435.0, 900.0, 1925.0, 2950.0, 2440.0, 1930.0, 2955.0, 2445.0, 400.0, 1425.0, 2450.0, 2960.0, 1940.0, 2965.0, 2455.0, 2970.0, 2460.0, 925.0, 1950.0, 2975.0, 4000.0, 2465.0, 2980.0, 2470.0, 1960.0, 2985.0, 1450.0, 2475.0, 3500.0, 2990.0, 2480.0, 1970.0, 2485.0, 950.0, 1975.0, 3000.0, 2490.0, 1980.0, 2495.0, 3010.0, 1475.0, 2500.0, 1990.0, 2505.0, 3020.0, 2510.0, 975.0, 2000.0, 3025.0, 2515.0, 3030.0, 2520.0, 2010.0, 1500.0, 2525.0, 3040.0, 2530.0, 2020.0, 2535.0, 1000.0, 2025.0, 3050.0, 2540.0, 2030.0, 2545.0, 500.0, 1525.0, 2550.0, 2040.0, 2555.0})"
      ]
     },
     "execution_count": 6,
     "metadata": {},
     "output_type": "execute_result"
    }
   ],
   "source": [
    "chain = next(c for c in chains if c.tradingClass == 'SPX' and c.exchange == 'SMART')\n",
    "chain"
   ]
  },
  {
   "cell_type": "markdown",
   "metadata": {},
   "source": [
    "What we have here is the full matrix of expirations x strikes. From this we can build all the option contracts that meet our conditions:"
   ]
  },
  {
   "cell_type": "code",
   "execution_count": 7,
   "metadata": {},
   "outputs": [
    {
     "data": {
      "text/plain": [
       "48"
      ]
     },
     "execution_count": 7,
     "metadata": {},
     "output_type": "execute_result"
    }
   ],
   "source": [
    "strikes = [strike for strike in chain.strikes\n",
    "        if strike % 5 == 0\n",
    "        and spxValue - 20 < strike < spxValue + 20]\n",
    "expirations = sorted(exp for exp in chain.expirations)[:3]\n",
    "rights = ['P', 'C']\n",
    "\n",
    "contracts = [Option('SPX', expiration, strike, right, 'SMART')\n",
    "        for right in rights\n",
    "        for expiration in expirations\n",
    "        for strike in strikes]\n",
    "\n",
    "ib.qualifyContracts(*contracts)\n",
    "len(contracts)"
   ]
  },
  {
   "cell_type": "code",
   "execution_count": 8,
   "metadata": {},
   "outputs": [
    {
     "data": {
      "text/plain": [
       "Option(conId=237923180, symbol='SPX', lastTradeDateOrContractMonth='20180614', strike=2700.0, right='P', multiplier='100', exchange='SMART', currency='USD', localSymbol='SPX   180615P02700000', tradingClass='SPX')"
      ]
     },
     "execution_count": 8,
     "metadata": {},
     "output_type": "execute_result"
    }
   ],
   "source": [
    "contracts[0]"
   ]
  },
  {
   "cell_type": "markdown",
   "metadata": {},
   "source": [
    "Now to get the market data for all options in one go:"
   ]
  },
  {
   "cell_type": "code",
   "execution_count": 9,
   "metadata": {},
   "outputs": [
    {
     "data": {
      "text/plain": [
       "Ticker(contract=Option(conId=237923180, symbol='SPX', lastTradeDateOrContractMonth='20180614', strike=2700.0, right='P', multiplier='100', exchange='SMART', currency='USD', localSymbol='SPX   180615P02700000', tradingClass='SPX'), time=datetime.datetime(2018, 5, 25, 17, 50, 2, 806952, tzinfo=datetime.timezone.utc), bid=19.4, bidSize=560, ask=19.9, askSize=279, last=20.3, lastSize=100, volume=1511, high=20.5, low=16.45, close=15.9, ticks=[], tickByTicks=[], domBids=[], domAsks=[], domTicks=[], bidGreeks=OptionComputation(impliedVol=0.10492681114485905, delta=-0.4019469624829666, optPrice=19.399999618530273, pvDividend=4.400254674460744, gamma=0.005647155960812031, vega=2.5253757317246706, theta=-0.5699540583961761, undPrice=2717.57), askGreeks=OptionComputation(impliedVol=0.10694319442007819, delta=-0.40357296844496793, optPrice=19.899999618530273, pvDividend=4.400254674460744, gamma=0.005546414620071337, vega=2.527989295906785, theta=-0.5824109444415362, undPrice=2717.57), lastGreeks=OptionComputation(impliedVol=0.10630971473182357, delta=-0.40306898131077784, optPrice=20.299999237060547, pvDividend=4.400254674460744, gamma=0.0055776872730217255, vega=2.5271839800066087, theta=-0.5784977417110165, undPrice=2717.57), modelGreeks=OptionComputation(impliedVol=0.10539337400845247, delta=-0.40317353103026543, optPrice=20.12928818330994, pvDividend=4.400254674460744, gamma=0.005626773705392459, vega=2.527253188635175, theta=-0.5730124223229268, undPrice=2717.42))"
      ]
     },
     "execution_count": 9,
     "metadata": {},
     "output_type": "execute_result"
    }
   ],
   "source": [
    "tickers = ib.reqTickers(*contracts)\n",
    "\n",
    "tickers[0]"
   ]
  },
  {
   "cell_type": "markdown",
   "metadata": {},
   "source": [
    "The option greeks are available from the ``modelGreeks`` attribute, and if there is a bid, ask resp. last price available also from ``bidGreeks``, ``askGreeks`` and ``lastGreeks``. For streaming ticks the greek values will be kept up to date to the current market situation."
   ]
  },
  {
   "cell_type": "code",
   "execution_count": 10,
   "metadata": {},
   "outputs": [],
   "source": [
    "ib.disconnect()"
   ]
  },
  {
   "cell_type": "code",
   "execution_count": null,
   "metadata": {},
   "outputs": [],
   "source": []
  }
 ],
 "metadata": {
  "kernelspec": {
   "display_name": "Python 3",
   "language": "python",
   "name": "python3"
  },
  "language_info": {
   "codemirror_mode": {
    "name": "ipython",
    "version": 3
   },
   "file_extension": ".py",
   "mimetype": "text/x-python",
   "name": "python",
   "nbconvert_exporter": "python",
   "pygments_lexer": "ipython3",
   "version": "3.6.5"
  }
 },
 "nbformat": 4,
 "nbformat_minor": 2
}
